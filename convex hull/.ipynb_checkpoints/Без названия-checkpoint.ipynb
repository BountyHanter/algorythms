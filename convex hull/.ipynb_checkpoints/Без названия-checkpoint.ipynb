{
 "cells": [
  {
   "cell_type": "code",
   "execution_count": 2,
   "id": "b67065a1-9989-4834-bb92-e5292d9a826f",
   "metadata": {},
   "outputs": [
    {
     "name": "stdout",
     "output_type": "stream",
     "text": [
      "[(0, 3), (0, 0), (3, 0), (3, 3)]\n"
     ]
    }
   ],
   "source": [
    "from functools import cmp_to_key\n",
    "import math\n",
    "\n",
    "def left_index(points):\n",
    "    '''\n",
    "    Находит самую левую точку\n",
    "    '''\n",
    "    left_most = 0\n",
    "    for i in range(1,len(points)):\n",
    "        if points[i][0] < points[left_most][0]:\n",
    "            left_most = i\n",
    "        elif points[i][0] == points[left_most][0]:\n",
    "            if points[i][1] > points[left_most][1]:\n",
    "                left_most = i\n",
    "    return left_most\n",
    "\n",
    "def orientation(p, q, r):\n",
    "    '''\n",
    "    Определяет ориентацию p, q, r (коллинеарны, по часовой стрелке, против часовой стрелки)\n",
    "    '''\n",
    "    val = (q[1] - p[1]) * (r[0] - q[0]) - (q[0] - p[0]) * (r[1] - q[1])\n",
    "    if val == 0:\n",
    "        return 0  # коллинеарны\n",
    "    elif val > 0:\n",
    "        return 1  # по часовой стрелке\n",
    "    else:\n",
    "        return 2  # против часовой стрелки\n",
    "\n",
    "def compare(p1, p2):\n",
    "    '''\n",
    "    Сравнивает полярный угол двух точек\n",
    "    '''\n",
    "    o = orientation(p0, p1, p2)\n",
    "    if o == 0:\n",
    "        if dist_square(p0, p2) >= dist_square(p0, p1):\n",
    "            return -1\n",
    "        else:\n",
    "            return 1\n",
    "    else:\n",
    "        if o == 2:\n",
    "            return -1\n",
    "        else:\n",
    "            return 1\n",
    "\n",
    "def dist_square(p1, p2):\n",
    "    '''\n",
    "    Возвращает квадрат расстояния между p1 и p2\n",
    "    '''\n",
    "    return ((p1[0] - p2[0])**2) + ((p1[1] - p2[1])**2)\n",
    "\n",
    "def graham_scan(points):\n",
    "    '''\n",
    "    Алгоритм Грэхема\n",
    "    '''\n",
    "    global p0\n",
    "\n",
    "    # Находим самую левую точку\n",
    "    left_most = left_index(points)\n",
    "    p0 = points[left_most]\n",
    "    points[0], points[left_most] = points[left_most], points[0]\n",
    "\n",
    "    # Сортируем точки по полярному углу\n",
    "    points = sorted(points, key=cmp_to_key(compare))\n",
    "\n",
    "    # Создаем стек и добавляем в него первые три точки\n",
    "    hull = [points[0], points[1], points[2]]\n",
    "\n",
    "    # Обходим остальные точки\n",
    "    for i in range(3, len(points)):\n",
    "        while len(hull) > 1 and orientation(hull[-2], hull[-1], points[i]) != 2:\n",
    "            hull.pop()\n",
    "        hull.append(points[i])\n",
    "\n",
    "    return hull\n",
    "\n",
    "# Пример использования:\n",
    "points = [(0, 0), (1, 1), (2, 2), (3, 1), (3, 3), (0, 3), (3, 0)]\n",
    "convex_hull = graham_scan(points)\n",
    "print(convex_hull)"
   ]
  },
  {
   "cell_type": "code",
   "execution_count": 4,
   "id": "63c00b8f-acbd-4de3-aae2-cdf880b6c19e",
   "metadata": {},
   "outputs": [
    {
     "name": "stdout",
     "output_type": "stream",
     "text": [
      "[((0, 3), (0, 0)), ((0, 0), (3, 0)), ((3, 0), (3, 3)), ((3, 3), (0, 3))]\n"
     ]
    }
   ],
   "source": [
    "lines = [(convex_hull[i], convex_hull[(i+1)%len(convex_hull)]) for i in range(len(convex_hull))]\n",
    "print(lines)"
   ]
  },
  {
   "cell_type": "code",
   "execution_count": 12,
   "id": "7497e4fb-e868-4e62-b834-19229a2cff7f",
   "metadata": {},
   "outputs": [],
   "source": [
    "def get_cof(points, lines):\n",
    "    for line in lines:\n",
    "        p1, p2 = line\n",
    "        a = p2[1] - p1[1]\n",
    "        b = p1[0] - p2[0]\n",
    "        c = p1[1]*p2[0] - p1[0]*p2[1]\n",
    "        sign = []\n",
    "        for point in points:\n",
    "            n = a*point[0] - b*point[1] + c\n",
    "            sign.append(n)\n",
    "            return all((n >= 0) == (sign[0] >= 0) for n in sign)\n"
   ]
  },
  {
   "cell_type": "code",
   "execution_count": 13,
   "id": "76af26f3-747d-477f-b267-c94f477784e0",
   "metadata": {},
   "outputs": [
    {
     "name": "stdout",
     "output_type": "stream",
     "text": [
      "True\n"
     ]
    }
   ],
   "source": [
    "print(get_cof(points, lines))"
   ]
  },
  {
   "cell_type": "code",
   "execution_count": null,
   "id": "c2cf7b4b-9b1c-4139-b4a3-792241985102",
   "metadata": {},
   "outputs": [],
   "source": []
  }
 ],
 "metadata": {
  "kernelspec": {
   "display_name": "Python 3 (ipykernel)",
   "language": "python",
   "name": "python3"
  },
  "language_info": {
   "codemirror_mode": {
    "name": "ipython",
    "version": 3
   },
   "file_extension": ".py",
   "mimetype": "text/x-python",
   "name": "python",
   "nbconvert_exporter": "python",
   "pygments_lexer": "ipython3",
   "version": "3.10.12"
  }
 },
 "nbformat": 4,
 "nbformat_minor": 5
}
